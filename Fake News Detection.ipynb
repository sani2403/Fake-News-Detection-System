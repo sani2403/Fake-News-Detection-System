{
 "cells": [
  {
   "cell_type": "code",
   "execution_count": null,
   "id": "ea30a106-3b5c-418b-9e83-98d7d7447116",
   "metadata": {},
   "outputs": [],
   "source": [
    "import numpy as np\n",
    "import pandas as pd\n",
    "import seaborn as sns\n",
    "import matplotlib.pyplot as plt\n",
    "from sklearn.model_selection import train_test_split\n",
    "from sklearn.metrics import accuracy_score\n",
    "from sklearn.metrics import classification_report\n",
    "import re\n",
    "import string\n"
   ]
  },
  {
   "cell_type": "code",
   "execution_count": null,
   "id": "6d81ab86-d817-42f8-af79-ab359da64c89",
   "metadata": {},
   "outputs": [],
   "source": [
    "df_fake=pd.read_csv(\"Fake.csv\")\n",
    "df_true=pd.read_csv(\"True.csv\")"
   ]
  },
  {
   "cell_type": "code",
   "execution_count": null,
   "id": "86bd9dae-255a-4c7f-8459-335f7239c15a",
   "metadata": {},
   "outputs": [],
   "source": [
    "df_fake.head()"
   ]
  },
  {
   "cell_type": "code",
   "execution_count": null,
   "id": "96d73a99-134a-4165-8b44-fc8df9508c41",
   "metadata": {},
   "outputs": [],
   "source": [
    "df_true.head()"
   ]
  },
  {
   "cell_type": "code",
   "execution_count": null,
   "id": "9708808c-0cd9-4ec8-b77f-0106ed032471",
   "metadata": {},
   "outputs": [],
   "source": [
    "df_true['class']=0\n",
    "df_fake['class']=1"
   ]
  },
  {
   "cell_type": "code",
   "execution_count": null,
   "id": "b2eb057e-2ee2-4fd0-b480-b836d18be3ab",
   "metadata": {},
   "outputs": [],
   "source": [
    "## the shape of both the dataset\n",
    "df_true.shape,df_fake.shape"
   ]
  },
  {
   "cell_type": "code",
   "execution_count": null,
   "id": "0aacab5f-8c3d-4dcb-b50f-9348132d3bdc",
   "metadata": {},
   "outputs": [],
   "source": [
    "# Save the last 10 rows for manual testing\n",
    "dataframe_fake_manual_testing = df_fake.tail(10)\n",
    "dataframe_true_manual_testing = df_true.tail(10)\n",
    "\n",
    "# Drop the last 10 rows using corrected ranges\n",
    "for i in range(23480, 23469, -1):  # Corrected range to include 23470\n",
    "    df_fake.drop([i], axis=0, inplace=True, errors='ignore')  # Avoid KeyError if index doesn't exist\n",
    "\n",
    "for i in range(21416, 21406, -1):  # Corrected range to include 21406\n",
    "    df_true.drop([i], axis=0, inplace=True, errors='ignore')  # Avoid KeyError if index doesn't exist\n",
    "\n",
    "# Check the shapes of the modified datasets\n",
    "df_fake.shape, df_true.shape\n",
    "\n"
   ]
  },
  {
   "cell_type": "code",
   "execution_count": null,
   "id": "5227ca75-89c4-44d8-b36b-347c055aaad9",
   "metadata": {},
   "outputs": [],
   "source": [
    "#Inserting the class column in both of the manual testing datasets  \n",
    "dataframe_fake_manual_testing[\"class\"] = 0  \n",
    "dataframe_true_manual_testing[\"class\"] = 1  \n",
    "  \n",
    "dataframe_fake_manual_testing.head(10)  "
   ]
  },
  {
   "cell_type": "code",
   "execution_count": null,
   "id": "36f51064-6891-4356-ab58-0364a6420e9d",
   "metadata": {},
   "outputs": [],
   "source": [
    "dataframe_true_manual_testing.head(10) "
   ]
  },
  {
   "cell_type": "code",
   "execution_count": null,
   "id": "a6a31b14-e371-49a6-8de8-8adf72bddde8",
   "metadata": {},
   "outputs": [],
   "source": [
    "dataframe_merge = pd.concat([df_fake, df_true], axis =0 )  \n",
    "dataframe_merge.head(10) "
   ]
  },
  {
   "cell_type": "code",
   "execution_count": null,
   "id": "d762c07c-5bc8-48a8-8747-a81d98a9aeaa",
   "metadata": {},
   "outputs": [],
   "source": [
    "# We will remove the columns that are required for us  \n",
    "dataframe = dataframe_merge.drop([\"title\", \"subject\",\"date\"], axis = 1)  \n",
    "  \n",
    "# Let's check if there are any null values in the dataset  \n",
    "dataframe.isnull().sum() "
   ]
  },
  {
   "cell_type": "code",
   "execution_count": null,
   "id": "510aefd0-df55-4ee8-bc02-899734593119",
   "metadata": {},
   "outputs": [],
   "source": [
    " #Here is the random shuffling of the rows in dataset   \n",
    "dataframedataframe = dataframe.sample(frac = 1)  \n",
    "dataframe.head()  "
   ]
  },
  {
   "cell_type": "code",
   "execution_count": null,
   "id": "63def58c-0a2d-4275-9dae-210b30d42628",
   "metadata": {},
   "outputs": [],
   "source": [
    "dataframe.reset_index(inplace = True)  \n",
    "dataframe.drop([\"index\"], axis = 1, inplace = True)  \n",
    "dataframe.head()  "
   ]
  },
  {
   "cell_type": "code",
   "execution_count": null,
   "id": "cfb7a152-9dd0-4b46-a320-ca54cb509c78",
   "metadata": {},
   "outputs": [],
   "source": [
    "dataframe.reset_index(inplace = True)  \n",
    "dataframe.drop([\"index\"], axis = 1, inplace = True)  \n",
    "dataframe.head()  "
   ]
  },
  {
   "cell_type": "code",
   "execution_count": null,
   "id": "4b275b9a-3099-4dac-af71-cd02e9064db8",
   "metadata": {},
   "outputs": [],
   "source": [
    "def wordopt(t):  \n",
    "    tt = t.lower()  \n",
    "    t = re.sub('\\[.*?\\]', '', t)  \n",
    "    t = re.sub(\"\\\\W\",\" \",t)  \n",
    "    t = re.sub('https?://\\S+|www\\.\\S+', '', t)  \n",
    "    t = re.sub('<.*?>+', '', t)  \n",
    "    t = re.sub('[%s]' % re.escape(string.punctuation), '', t)  \n",
    "    t = re.sub('\\n', '', t)  \n",
    "    t = re.sub('\\w*\\d\\w*', '', t)      \n",
    "    return t\n",
    "dataframe[\"text\"] = dataframe[\"text\"].apply(wordopt)  \n",
    "  \n",
    "#Now we will define the dependent variable and independent variables  \n",
    "x = dataframe[\"text\"]  \n",
    "y = dataframe[\"class\"]  \n",
    "  \n",
    "# Splitting the Dataset into a Training and Testing Set  \n",
    "x_train, x_test, y_train, y_test = train_test_split(x, y, test_size=0.25)  "
   ]
  },
  {
   "cell_type": "code",
   "execution_count": null,
   "id": "e6ec53ca-6754-4646-b70c-45fbc4d3800e",
   "metadata": {},
   "outputs": [],
   "source": [
    "import re\n",
    "import string\n",
    "\n",
    "def wordopt(t):\n",
    "    t = t.lower()\n",
    "    t = re.sub(r'\\[.*?\\]', '', t)  # Use raw string for escaping \"\\[\"\n",
    "    t = re.sub(r'\\W', ' ', t)      # Use raw string for \"\\W\"\n",
    "    t = re.sub(r'https?://\\S+|www\\.\\S+', '', t)  # Use raw string for \"\\S\"\n",
    "    t = re.sub(r'<.*?>+', '', t)\n",
    "    t = re.sub(r'[%s]' % re.escape(string.punctuation), '', t)\n",
    "    t = re.sub(r'\\n', '', t)\n",
    "    t = re.sub(r'\\w*\\d\\w*', '', t)  # Use raw string for \"\\w\"\n",
    "    return t\n",
    "dataframe[\"text\"] = dataframe[\"text\"].apply(wordopt)  \n",
    "  \n",
    "#Now we will define the dependent variable and independent variables  \n",
    "x = dataframe[\"text\"]  \n",
    "y = dataframe[\"class\"]  \n",
    "  \n",
    "# Splitting the Dataset into a Training and Testing Set  \n",
    "x_train, x_test, y_train, y_test = train_test_split(x, y, test_size=0.25)  "
   ]
  },
  {
   "cell_type": "code",
   "execution_count": null,
   "id": "b5f4c44e-1806-44e7-914f-b18f7fa8fa46",
   "metadata": {},
   "outputs": [],
   "source": [
    "from sklearn.feature_extraction.text import TfidfVectorizer  \n",
    "  \n",
    "  \n",
    "vectorization = TfidfVectorizer()  \n",
    "xv_train = vectorization.fit_transform(x_train)  \n",
    "xv_test = vectorization.transform(x_test)  "
   ]
  },
  {
   "cell_type": "code",
   "execution_count": null,
   "id": "1c08d80f-5ec6-4b75-af9d-b6ea1bb5f1c6",
   "metadata": {},
   "outputs": [],
   "source": [
    "from sklearn.linear_model import LogisticRegression  \n",
    "  \n",
    "  \n",
    "LR = LogisticRegression()  \n",
    "LR.fit(xv_train,y_train)  "
   ]
  },
  {
   "cell_type": "code",
   "execution_count": null,
   "id": "505766a2-5512-47bb-add5-860a8562d4e3",
   "metadata": {},
   "outputs": [],
   "source": [
    "pred_lr=LR.predict(xv_test)  \n",
    "LR.score(xv_test, y_test)  "
   ]
  },
  {
   "cell_type": "code",
   "execution_count": null,
   "id": "74d5de93-f4a9-4ef8-a5b3-e83249c7c7f8",
   "metadata": {},
   "outputs": [],
   "source": [
    "print(classification_report(y_test, pred_lr))  "
   ]
  },
  {
   "cell_type": "code",
   "execution_count": null,
   "id": "dc0c9d99-2fa9-4dcd-ab86-54321a2fb838",
   "metadata": {},
   "outputs": [],
   "source": [
    "from sklearn.tree import DecisionTreeClassifier  \n",
    "  \n",
    "  \n",
    "DT = DecisionTreeClassifier()  \n",
    "DT.fit(xv_train, y_train)  "
   ]
  },
  {
   "cell_type": "code",
   "execution_count": null,
   "id": "99bc49b0-b8ce-4ea3-9810-47594b33da4a",
   "metadata": {},
   "outputs": [],
   "source": [
    "pred_dt = DT.predict(xv_test)  \n",
    "DT.score(xv_test, y_test)  "
   ]
  },
  {
   "cell_type": "code",
   "execution_count": null,
   "id": "38cb5b7e-d82f-4060-9a92-71824b2bb9f4",
   "metadata": {},
   "outputs": [],
   "source": [
    "print(classification_report(y_test, pred_dt))  "
   ]
  },
  {
   "cell_type": "code",
   "execution_count": null,
   "id": "9e59c247-4c39-4244-9c2c-6fb20efd99ee",
   "metadata": {},
   "outputs": [],
   "source": [
    "from sklearn.ensemble import GradientBoostingClassifier  \n",
    "  \n",
    "  \n",
    "GBC = GradientBoostingClassifier(random_state=0)  \n",
    "GBC.fit(xv_train, y_train)  "
   ]
  },
  {
   "cell_type": "code",
   "execution_count": null,
   "id": "580e1c11-f6d9-4666-9823-2d4ec6fab528",
   "metadata": {},
   "outputs": [],
   "source": [
    "pred_gbc = GBC.predict(xv_test)  \n",
    "GBC.score(xv_test, y_test)  "
   ]
  },
  {
   "cell_type": "code",
   "execution_count": null,
   "id": "db57938e-61e7-4c91-81fd-8e6af9d2985c",
   "metadata": {},
   "outputs": [],
   "source": [
    "print(classification_report(y_test, pred_gbc))  "
   ]
  },
  {
   "cell_type": "code",
   "execution_count": null,
   "id": "7a48d146-9ae9-44ec-afdd-efa5bbb038ce",
   "metadata": {},
   "outputs": [],
   "source": [
    "from sklearn.ensemble import RandomForestClassifier  \n",
    "  \n",
    "  \n",
    "RFC = RandomForestClassifier(random_state=0)  \n",
    "RFC.fit(xv_train, y_train)  "
   ]
  },
  {
   "cell_type": "code",
   "execution_count": null,
   "id": "d627f243-5e78-4d9b-a034-1b953853701b",
   "metadata": {},
   "outputs": [],
   "source": [
    "pred_rfc = RFC.predict(xv_test)  \n",
    "RFC.score(xv_test, y_test)  "
   ]
  },
  {
   "cell_type": "code",
   "execution_count": null,
   "id": "152b659c-f725-44bc-93c5-92c450198a23",
   "metadata": {},
   "outputs": [],
   "source": [
    "print(classification_report(y_test, pred_rfc))  "
   ]
  },
  {
   "cell_type": "code",
   "execution_count": null,
   "id": "6b3a99b4-daab-4bf1-ad52-b8c20e2404da",
   "metadata": {},
   "outputs": [],
   "source": [
    "def output_lable(n):  \n",
    "    if n == 0:  \n",
    "        return \"Fake News\"  \n",
    "    elif n == 1:  \n",
    "        return \"Not A Fake News\"  \n",
    "     \n",
    "def manual_testing(news):  \n",
    "    testing_news = {\"text\":[news]}  \n",
    "    new_def_test = pd.DataFrame(testing_news)  \n",
    "    new_def_test[\"text\"] = new_def_test[\"text\"].apply(wordopt)  \n",
    "    new_x_test = new_def_test[\"text\"]  \n",
    "    new_xv_test = vectorization.transform(new_x_test)  \n",
    "    pred_LR = LR.predict(new_xv_test)  \n",
    "    pred_DT = DT.predict(new_xv_test)  \n",
    "    pred_GBC = GBC.predict(new_xv_test)  \n",
    "    pred_RFC = RFC.predict(new_xv_test)  \n",
    "  \n",
    "  \n",
    "    return print(\"\\n\\nLR Prediction: {} \\nDT Prediction: {} \\nGBC Prediction: {} \\nRFC Prediction: {}\".format(output_lable(pred_LR[0]),                                                                                                       output_lable(pred_DT[0]),  \n",
    "                                                                                                              output_lable(pred_GBC[0]),  \n",
    "                                                                                                              output_lable(pred_RFC[0])))  \n",
    "  \n",
    "news = str(input())  \n",
    "manual_testing(news)  "
   ]
  },
  {
   "cell_type": "code",
   "execution_count": null,
   "id": "57588f8e-3b23-4dfe-a0b5-7b5a3a381b84",
   "metadata": {},
   "outputs": [],
   "source": [
    "news = str(input())  \n",
    "manual_testing(news)  "
   ]
  },
  {
   "cell_type": "code",
   "execution_count": 3,
   "id": "ecfd198d-22d6-4022-8884-3d62b790b58f",
   "metadata": {},
   "outputs": [
    {
     "ename": "NameError",
     "evalue": "name 'df_true' is not defined",
     "output_type": "error",
     "traceback": [
      "\u001b[1;31m---------------------------------------------------------------------------\u001b[0m",
      "\u001b[1;31mNameError\u001b[0m                                 Traceback (most recent call last)",
      "Cell \u001b[1;32mIn[3], line 1\u001b[0m\n\u001b[1;32m----> 1\u001b[0m df_true\u001b[38;5;241m.\u001b[39mhead()  \n\u001b[0;32m      2\u001b[0m news \u001b[38;5;241m=\u001b[39m \u001b[38;5;28mstr\u001b[39m(\u001b[38;5;28minput\u001b[39m())  \n\u001b[0;32m      3\u001b[0m manual_testing(news)\n",
      "\u001b[1;31mNameError\u001b[0m: name 'df_true' is not defined"
     ]
    }
   ],
   "source": [
    "df_true.head()  \n",
    "news = str(input())  \n",
    "manual_testing(news)  "
   ]
  },
  {
   "cell_type": "code",
   "execution_count": null,
   "id": "f206a7d4-e5e7-4b19-91c6-6c5586551dce",
   "metadata": {},
   "outputs": [],
   "source": []
  }
 ],
 "metadata": {
  "kernelspec": {
   "display_name": "Python 3 (ipykernel)",
   "language": "python",
   "name": "python3"
  },
  "language_info": {
   "codemirror_mode": {
    "name": "ipython",
    "version": 3
   },
   "file_extension": ".py",
   "mimetype": "text/x-python",
   "name": "python",
   "nbconvert_exporter": "python",
   "pygments_lexer": "ipython3",
   "version": "3.12.7"
  }
 },
 "nbformat": 4,
 "nbformat_minor": 5
}
